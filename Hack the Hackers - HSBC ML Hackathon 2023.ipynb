{
 "cells": [
  {
   "cell_type": "code",
   "execution_count": 1,
   "id": "91281928",
   "metadata": {},
   "outputs": [],
   "source": [
    "import numpy as np\n",
    "import pandas as pd\n",
    "import matplotlib.pyplot as plt\n",
    "import seaborn as sns"
   ]
  },
  {
   "cell_type": "code",
   "execution_count": 2,
   "id": "298e5b0e",
   "metadata": {},
   "outputs": [
    {
     "data": {
      "text/html": [
       "<div>\n",
       "<style scoped>\n",
       "    .dataframe tbody tr th:only-of-type {\n",
       "        vertical-align: middle;\n",
       "    }\n",
       "\n",
       "    .dataframe tbody tr th {\n",
       "        vertical-align: top;\n",
       "    }\n",
       "\n",
       "    .dataframe thead th {\n",
       "        text-align: right;\n",
       "    }\n",
       "</style>\n",
       "<table border=\"1\" class=\"dataframe\">\n",
       "  <thead>\n",
       "    <tr style=\"text-align: right;\">\n",
       "      <th></th>\n",
       "      <th>V1</th>\n",
       "      <th>V2</th>\n",
       "      <th>V3</th>\n",
       "      <th>V4</th>\n",
       "      <th>V5</th>\n",
       "      <th>V6</th>\n",
       "      <th>V7</th>\n",
       "      <th>V8</th>\n",
       "      <th>V9</th>\n",
       "      <th>V10</th>\n",
       "      <th>V11</th>\n",
       "      <th>V12</th>\n",
       "      <th>Target</th>\n",
       "      <th>V13</th>\n",
       "    </tr>\n",
       "  </thead>\n",
       "  <tbody>\n",
       "    <tr>\n",
       "      <th>0</th>\n",
       "      <td>CUID1872</td>\n",
       "      <td>TID229526</td>\n",
       "      <td>EID2062082</td>\n",
       "      <td>485.69445</td>\n",
       "      <td>2020-03-20 22:51:30</td>\n",
       "      <td>376474</td>\n",
       "      <td>A</td>\n",
       "      <td>BA1</td>\n",
       "      <td>BB425559</td>\n",
       "      <td>PD44707</td>\n",
       "      <td>CC1</td>\n",
       "      <td>CP0</td>\n",
       "      <td>0</td>\n",
       "      <td>2020-03-21 00:00:00</td>\n",
       "    </tr>\n",
       "    <tr>\n",
       "      <th>1</th>\n",
       "      <td>CUID5533</td>\n",
       "      <td>TID244499</td>\n",
       "      <td>EID1459012</td>\n",
       "      <td>393.45200</td>\n",
       "      <td>2020-04-28 07:17:12</td>\n",
       "      <td>33227</td>\n",
       "      <td>A</td>\n",
       "      <td>BA4793</td>\n",
       "      <td>BB248012</td>\n",
       "      <td>PD39453</td>\n",
       "      <td>CC1</td>\n",
       "      <td>CP0</td>\n",
       "      <td>0</td>\n",
       "      <td>2020-04-28 00:00:00</td>\n",
       "    </tr>\n",
       "    <tr>\n",
       "      <th>2</th>\n",
       "      <td>CUID5278</td>\n",
       "      <td>TID311877</td>\n",
       "      <td>EID0</td>\n",
       "      <td>375.75000</td>\n",
       "      <td>2020-08-15 04:11:43</td>\n",
       "      <td>0</td>\n",
       "      <td>F</td>\n",
       "      <td>BA5631</td>\n",
       "      <td>BB166256</td>\n",
       "      <td>PD237664</td>\n",
       "      <td>CC1</td>\n",
       "      <td>CP0</td>\n",
       "      <td>0</td>\n",
       "      <td>NaN</td>\n",
       "    </tr>\n",
       "    <tr>\n",
       "      <th>3</th>\n",
       "      <td>CUID24</td>\n",
       "      <td>TID279685</td>\n",
       "      <td>EID0</td>\n",
       "      <td>6.97225</td>\n",
       "      <td>2020-06-26 01:11:42</td>\n",
       "      <td>0</td>\n",
       "      <td>C</td>\n",
       "      <td>BA7188</td>\n",
       "      <td>BB354924</td>\n",
       "      <td>PD99032</td>\n",
       "      <td>CC1</td>\n",
       "      <td>CP0</td>\n",
       "      <td>0</td>\n",
       "      <td>NaN</td>\n",
       "    </tr>\n",
       "    <tr>\n",
       "      <th>4</th>\n",
       "      <td>CUID449</td>\n",
       "      <td>TID104689</td>\n",
       "      <td>EID0</td>\n",
       "      <td>16.70000</td>\n",
       "      <td>2020-09-15 10:11:06</td>\n",
       "      <td>0</td>\n",
       "      <td>C</td>\n",
       "      <td>BA7236</td>\n",
       "      <td>BB354924</td>\n",
       "      <td>PD63422</td>\n",
       "      <td>CC1</td>\n",
       "      <td>CP0</td>\n",
       "      <td>0</td>\n",
       "      <td>NaN</td>\n",
       "    </tr>\n",
       "  </tbody>\n",
       "</table>\n",
       "</div>"
      ],
      "text/plain": [
       "         V1         V2          V3         V4                   V5      V6 V7   \n",
       "0  CUID1872  TID229526  EID2062082  485.69445  2020-03-20 22:51:30  376474  A  \\\n",
       "1  CUID5533  TID244499  EID1459012  393.45200  2020-04-28 07:17:12   33227  A   \n",
       "2  CUID5278  TID311877        EID0  375.75000  2020-08-15 04:11:43       0  F   \n",
       "3    CUID24  TID279685        EID0    6.97225  2020-06-26 01:11:42       0  C   \n",
       "4   CUID449  TID104689        EID0   16.70000  2020-09-15 10:11:06       0  C   \n",
       "\n",
       "       V8        V9       V10  V11  V12  Target                  V13  \n",
       "0     BA1  BB425559   PD44707  CC1  CP0       0  2020-03-21 00:00:00  \n",
       "1  BA4793  BB248012   PD39453  CC1  CP0       0  2020-04-28 00:00:00  \n",
       "2  BA5631  BB166256  PD237664  CC1  CP0       0                  NaN  \n",
       "3  BA7188  BB354924   PD99032  CC1  CP0       0                  NaN  \n",
       "4  BA7236  BB354924   PD63422  CC1  CP0       0                  NaN  "
      ]
     },
     "execution_count": 2,
     "metadata": {},
     "output_type": "execute_result"
    }
   ],
   "source": [
    "train_data = pd.read_csv(\"dataset/train.csv\")\n",
    "train_data.head()"
   ]
  },
  {
   "cell_type": "code",
   "execution_count": 3,
   "id": "565211ab",
   "metadata": {},
   "outputs": [
    {
     "data": {
      "text/html": [
       "<div>\n",
       "<style scoped>\n",
       "    .dataframe tbody tr th:only-of-type {\n",
       "        vertical-align: middle;\n",
       "    }\n",
       "\n",
       "    .dataframe tbody tr th {\n",
       "        vertical-align: top;\n",
       "    }\n",
       "\n",
       "    .dataframe thead th {\n",
       "        text-align: right;\n",
       "    }\n",
       "</style>\n",
       "<table border=\"1\" class=\"dataframe\">\n",
       "  <thead>\n",
       "    <tr style=\"text-align: right;\">\n",
       "      <th></th>\n",
       "      <th>V1</th>\n",
       "      <th>V3</th>\n",
       "      <th>V14</th>\n",
       "      <th>V15</th>\n",
       "      <th>V16</th>\n",
       "      <th>V17</th>\n",
       "      <th>V18</th>\n",
       "      <th>V19</th>\n",
       "      <th>V20</th>\n",
       "      <th>V21</th>\n",
       "    </tr>\n",
       "  </thead>\n",
       "  <tbody>\n",
       "    <tr>\n",
       "      <th>0</th>\n",
       "      <td>CUID1626</td>\n",
       "      <td>EID1390067</td>\n",
       "      <td>B170291</td>\n",
       "      <td>A</td>\n",
       "      <td>2017-11-18 05:26:58</td>\n",
       "      <td>117.167.140.162</td>\n",
       "      <td>875</td>\n",
       "      <td>1525792</td>\n",
       "      <td>77.55</td>\n",
       "      <td>NaN</td>\n",
       "    </tr>\n",
       "    <tr>\n",
       "      <th>1</th>\n",
       "      <td>CUID2932</td>\n",
       "      <td>EID397864</td>\n",
       "      <td>B170291</td>\n",
       "      <td>A</td>\n",
       "      <td>2017-11-18 05:26:59</td>\n",
       "      <td>133.193.46.52</td>\n",
       "      <td>875</td>\n",
       "      <td>471293</td>\n",
       "      <td>-25.85</td>\n",
       "      <td>NaN</td>\n",
       "    </tr>\n",
       "    <tr>\n",
       "      <th>2</th>\n",
       "      <td>CUID7230</td>\n",
       "      <td>EID315534</td>\n",
       "      <td>B1827073</td>\n",
       "      <td>B</td>\n",
       "      <td>2017-11-18 05:27:02</td>\n",
       "      <td>127.75.140.137</td>\n",
       "      <td>875</td>\n",
       "      <td>825535</td>\n",
       "      <td>NaN</td>\n",
       "      <td>373.50</td>\n",
       "    </tr>\n",
       "    <tr>\n",
       "      <th>3</th>\n",
       "      <td>CUID1588</td>\n",
       "      <td>EID1724187</td>\n",
       "      <td>B170291</td>\n",
       "      <td>A</td>\n",
       "      <td>2017-11-18 05:27:30</td>\n",
       "      <td>120.210.191.123</td>\n",
       "      <td>875</td>\n",
       "      <td>2136427</td>\n",
       "      <td>-23.50</td>\n",
       "      <td>NaN</td>\n",
       "    </tr>\n",
       "    <tr>\n",
       "      <th>4</th>\n",
       "      <td>CUID3625</td>\n",
       "      <td>EID637357</td>\n",
       "      <td>B2356022</td>\n",
       "      <td>B</td>\n",
       "      <td>2017-11-18 05:27:55</td>\n",
       "      <td>127.75.145.110</td>\n",
       "      <td>875</td>\n",
       "      <td>825535</td>\n",
       "      <td>169.20</td>\n",
       "      <td>400.06</td>\n",
       "    </tr>\n",
       "  </tbody>\n",
       "</table>\n",
       "</div>"
      ],
      "text/plain": [
       "         V1          V3       V14 V15                  V16              V17   \n",
       "0  CUID1626  EID1390067   B170291   A  2017-11-18 05:26:58  117.167.140.162  \\\n",
       "1  CUID2932   EID397864   B170291   A  2017-11-18 05:26:59    133.193.46.52   \n",
       "2  CUID7230   EID315534  B1827073   B  2017-11-18 05:27:02   127.75.140.137   \n",
       "3  CUID1588  EID1724187   B170291   A  2017-11-18 05:27:30  120.210.191.123   \n",
       "4  CUID3625   EID637357  B2356022   B  2017-11-18 05:27:55   127.75.145.110   \n",
       "\n",
       "   V18      V19     V20     V21  \n",
       "0  875  1525792   77.55     NaN  \n",
       "1  875   471293  -25.85     NaN  \n",
       "2  875   825535     NaN  373.50  \n",
       "3  875  2136427  -23.50     NaN  \n",
       "4  875   825535  169.20  400.06  "
      ]
     },
     "execution_count": 3,
     "metadata": {},
     "output_type": "execute_result"
    }
   ],
   "source": [
    "train_helper = pd.read_csv(\"dataset/train_helper.csv\")\n",
    "train_helper.head()"
   ]
  },
  {
   "cell_type": "code",
   "execution_count": 4,
   "id": "b5dbe340",
   "metadata": {},
   "outputs": [
    {
     "data": {
      "text/html": [
       "<div>\n",
       "<style scoped>\n",
       "    .dataframe tbody tr th:only-of-type {\n",
       "        vertical-align: middle;\n",
       "    }\n",
       "\n",
       "    .dataframe tbody tr th {\n",
       "        vertical-align: top;\n",
       "    }\n",
       "\n",
       "    .dataframe thead th {\n",
       "        text-align: right;\n",
       "    }\n",
       "</style>\n",
       "<table border=\"1\" class=\"dataframe\">\n",
       "  <thead>\n",
       "    <tr style=\"text-align: right;\">\n",
       "      <th></th>\n",
       "      <th>V4</th>\n",
       "      <th>V5</th>\n",
       "      <th>V7</th>\n",
       "      <th>Target</th>\n",
       "    </tr>\n",
       "  </thead>\n",
       "  <tbody>\n",
       "    <tr>\n",
       "      <th>0</th>\n",
       "      <td>485.69445</td>\n",
       "      <td>2020-03-20 22:51:30</td>\n",
       "      <td>A</td>\n",
       "      <td>0</td>\n",
       "    </tr>\n",
       "    <tr>\n",
       "      <th>1</th>\n",
       "      <td>393.45200</td>\n",
       "      <td>2020-04-28 07:17:12</td>\n",
       "      <td>A</td>\n",
       "      <td>0</td>\n",
       "    </tr>\n",
       "    <tr>\n",
       "      <th>2</th>\n",
       "      <td>375.75000</td>\n",
       "      <td>2020-08-15 04:11:43</td>\n",
       "      <td>F</td>\n",
       "      <td>0</td>\n",
       "    </tr>\n",
       "    <tr>\n",
       "      <th>3</th>\n",
       "      <td>6.97225</td>\n",
       "      <td>2020-06-26 01:11:42</td>\n",
       "      <td>C</td>\n",
       "      <td>0</td>\n",
       "    </tr>\n",
       "    <tr>\n",
       "      <th>4</th>\n",
       "      <td>16.70000</td>\n",
       "      <td>2020-09-15 10:11:06</td>\n",
       "      <td>C</td>\n",
       "      <td>0</td>\n",
       "    </tr>\n",
       "  </tbody>\n",
       "</table>\n",
       "</div>"
      ],
      "text/plain": [
       "          V4                   V5 V7  Target\n",
       "0  485.69445  2020-03-20 22:51:30  A       0\n",
       "1  393.45200  2020-04-28 07:17:12  A       0\n",
       "2  375.75000  2020-08-15 04:11:43  F       0\n",
       "3    6.97225  2020-06-26 01:11:42  C       0\n",
       "4   16.70000  2020-09-15 10:11:06  C       0"
      ]
     },
     "execution_count": 4,
     "metadata": {},
     "output_type": "execute_result"
    }
   ],
   "source": [
    "# V1\tV2\tV3\tV9\tV10 column not have significance \n",
    "train_data_V1 = train_data.drop([\"V1\",\"V2\",\"V3\",\"V12\",\"V11\",\"V8\",\"V6\",\"V9\",\"V10\",\"V13\"], axis = 1)\n",
    "train_data_V1.head()"
   ]
  },
  {
   "cell_type": "code",
   "execution_count": 5,
   "id": "6b11e180",
   "metadata": {},
   "outputs": [],
   "source": [
    "train_data_V1[\"V5\"] = pd.to_datetime(train_data_V1[\"V5\"])"
   ]
  },
  {
   "cell_type": "code",
   "execution_count": 7,
   "id": "71df418b",
   "metadata": {},
   "outputs": [],
   "source": [
    "train_data_V1[\"V5_year\"] = train_data_V1[\"V5\"].dt.year\n",
    "train_data_V1[\"V5_month\"] = train_data_V1[\"V5\"].dt.month\n",
    "train_data_V1[\"V5_day\"] = train_data_V1[\"V5\"].dt.day\n",
    "train_data_V1[\"V5_hour\"] = train_data_V1[\"V5\"].dt.hour\n",
    "train_data_V1[\"V5_min\"] = train_data_V1[\"V5\"].dt.minute\n",
    "train_data_V1[\"V5_sec\"] = train_data_V1[\"V5\"].dt.second\n",
    "train_data_V1['is_weekend'] = train_data_V1['V5'].dt.weekday >= 5\n",
    "train_data_V1['season'] = (train_data_V1['V5'].dt.month%12 + 3)//3"
   ]
  },
  {
   "cell_type": "code",
   "execution_count": 8,
   "id": "14abd915",
   "metadata": {},
   "outputs": [
    {
     "name": "stdout",
     "output_type": "stream",
     "text": [
      "<class 'pandas.core.frame.DataFrame'>\n",
      "RangeIndex: 233633 entries, 0 to 233632\n",
      "Data columns (total 12 columns):\n",
      " #   Column      Non-Null Count   Dtype         \n",
      "---  ------      --------------   -----         \n",
      " 0   V4          233633 non-null  float64       \n",
      " 1   V5          233633 non-null  datetime64[ns]\n",
      " 2   V7          233633 non-null  object        \n",
      " 3   Target      233633 non-null  int64         \n",
      " 4   V5_year     233633 non-null  int32         \n",
      " 5   V5_month    233633 non-null  int32         \n",
      " 6   V5_day      233633 non-null  int32         \n",
      " 7   V5_hour     233633 non-null  int32         \n",
      " 8   V5_min      233633 non-null  int32         \n",
      " 9   V5_sec      233633 non-null  int32         \n",
      " 10  is_weekend  233633 non-null  bool          \n",
      " 11  season      233633 non-null  int32         \n",
      "dtypes: bool(1), datetime64[ns](1), float64(1), int32(7), int64(1), object(1)\n",
      "memory usage: 13.6+ MB\n"
     ]
    }
   ],
   "source": [
    "train_data_V1.info()"
   ]
  },
  {
   "cell_type": "code",
   "execution_count": 9,
   "id": "141cf0a0",
   "metadata": {},
   "outputs": [],
   "source": [
    "from sklearn.preprocessing import LabelEncoder\n",
    "\n",
    "label_encode = LabelEncoder()"
   ]
  },
  {
   "cell_type": "code",
   "execution_count": 10,
   "id": "b7a6f9b9",
   "metadata": {},
   "outputs": [],
   "source": [
    "train_data_V1[\"V7\"] = label_encode.fit_transform(train_data_V1[\"V7\"])"
   ]
  },
  {
   "cell_type": "code",
   "execution_count": 11,
   "id": "af02cf83",
   "metadata": {},
   "outputs": [
    {
     "name": "stdout",
     "output_type": "stream",
     "text": [
      "<class 'pandas.core.frame.DataFrame'>\n",
      "RangeIndex: 233633 entries, 0 to 233632\n",
      "Data columns (total 12 columns):\n",
      " #   Column      Non-Null Count   Dtype         \n",
      "---  ------      --------------   -----         \n",
      " 0   V4          233633 non-null  float64       \n",
      " 1   V5          233633 non-null  datetime64[ns]\n",
      " 2   V7          233633 non-null  int32         \n",
      " 3   Target      233633 non-null  int64         \n",
      " 4   V5_year     233633 non-null  int32         \n",
      " 5   V5_month    233633 non-null  int32         \n",
      " 6   V5_day      233633 non-null  int32         \n",
      " 7   V5_hour     233633 non-null  int32         \n",
      " 8   V5_min      233633 non-null  int32         \n",
      " 9   V5_sec      233633 non-null  int32         \n",
      " 10  is_weekend  233633 non-null  bool          \n",
      " 11  season      233633 non-null  int32         \n",
      "dtypes: bool(1), datetime64[ns](1), float64(1), int32(8), int64(1)\n",
      "memory usage: 12.7 MB\n"
     ]
    }
   ],
   "source": [
    "train_data_V1.info()"
   ]
  },
  {
   "cell_type": "code",
   "execution_count": 12,
   "id": "78285df4",
   "metadata": {},
   "outputs": [],
   "source": [
    "train_data_V1 = train_data_V1.drop(\"V5\", axis = 1)"
   ]
  },
  {
   "cell_type": "code",
   "execution_count": 13,
   "id": "89e7dcee",
   "metadata": {},
   "outputs": [],
   "source": [
    "X = train_data_V1.drop(\"Target\", axis = 1)\n",
    "y = train_data[\"Target\"]"
   ]
  },
  {
   "cell_type": "code",
   "execution_count": 14,
   "id": "d256690c",
   "metadata": {},
   "outputs": [],
   "source": [
    "# creating Logistic Regression model\n",
    "from sklearn.linear_model import LogisticRegression\n",
    "\n",
    "LogReg = LogisticRegression(random_state = 42)"
   ]
  },
  {
   "cell_type": "code",
   "execution_count": 15,
   "id": "17180c55",
   "metadata": {},
   "outputs": [
    {
     "name": "stderr",
     "output_type": "stream",
     "text": [
      "C:\\ProgramData\\Anaconda3\\lib\\site-packages\\sklearn\\linear_model\\_logistic.py:814: ConvergenceWarning: lbfgs failed to converge (status=1):\n",
      "STOP: TOTAL NO. of ITERATIONS REACHED LIMIT.\n",
      "\n",
      "Increase the number of iterations (max_iter) or scale the data as shown in:\n",
      "    https://scikit-learn.org/stable/modules/preprocessing.html\n",
      "Please also refer to the documentation for alternative solver options:\n",
      "    https://scikit-learn.org/stable/modules/linear_model.html#logistic-regression\n",
      "  n_iter_i = _check_optimize_result(\n"
     ]
    },
    {
     "data": {
      "text/plain": [
       "LogisticRegression(random_state=42)"
      ]
     },
     "execution_count": 15,
     "metadata": {},
     "output_type": "execute_result"
    }
   ],
   "source": [
    "LogReg.fit(X,y)"
   ]
  },
  {
   "cell_type": "code",
   "execution_count": 16,
   "id": "3f421548",
   "metadata": {},
   "outputs": [],
   "source": [
    "y_pred = LogReg.predict(X)"
   ]
  },
  {
   "cell_type": "code",
   "execution_count": 17,
   "id": "3b399e37",
   "metadata": {},
   "outputs": [
    {
     "data": {
      "text/plain": [
       "49.723925986483074"
      ]
     },
     "execution_count": 17,
     "metadata": {},
     "output_type": "execute_result"
    }
   ],
   "source": [
    "from sklearn.metrics import precision_recall_curve\n",
    "from sklearn import metrics\n",
    "precision, recall, threshold = precision_recall_curve(y, y_pred)\n",
    "\n",
    "score = max(0, 100*metrics.auc(precision, recall))\n",
    "score"
   ]
  },
  {
   "cell_type": "code",
   "execution_count": 18,
   "id": "eaadf662",
   "metadata": {},
   "outputs": [
    {
     "data": {
      "text/html": [
       "<div>\n",
       "<style scoped>\n",
       "    .dataframe tbody tr th:only-of-type {\n",
       "        vertical-align: middle;\n",
       "    }\n",
       "\n",
       "    .dataframe tbody tr th {\n",
       "        vertical-align: top;\n",
       "    }\n",
       "\n",
       "    .dataframe thead th {\n",
       "        text-align: right;\n",
       "    }\n",
       "</style>\n",
       "<table border=\"1\" class=\"dataframe\">\n",
       "  <thead>\n",
       "    <tr style=\"text-align: right;\">\n",
       "      <th></th>\n",
       "      <th>V1</th>\n",
       "      <th>V2</th>\n",
       "      <th>V3</th>\n",
       "      <th>V4</th>\n",
       "      <th>V5</th>\n",
       "      <th>V6</th>\n",
       "      <th>V7</th>\n",
       "      <th>V8</th>\n",
       "      <th>V9</th>\n",
       "      <th>V10</th>\n",
       "      <th>V11</th>\n",
       "      <th>V12</th>\n",
       "      <th>V13</th>\n",
       "    </tr>\n",
       "  </thead>\n",
       "  <tbody>\n",
       "    <tr>\n",
       "      <th>0</th>\n",
       "      <td>CUID6660</td>\n",
       "      <td>TID198043</td>\n",
       "      <td>EID908838</td>\n",
       "      <td>4154.125</td>\n",
       "      <td>13-08-2020 08:41</td>\n",
       "      <td>33227</td>\n",
       "      <td>A</td>\n",
       "      <td>BA4811</td>\n",
       "      <td>BB68389</td>\n",
       "      <td>PD39402</td>\n",
       "      <td>CC1</td>\n",
       "      <td>CP0</td>\n",
       "      <td>11-08-2020 00:00</td>\n",
       "    </tr>\n",
       "    <tr>\n",
       "      <th>1</th>\n",
       "      <td>CUID6660</td>\n",
       "      <td>TID312736</td>\n",
       "      <td>EID502971</td>\n",
       "      <td>8350.000</td>\n",
       "      <td>17-08-2020 04:13</td>\n",
       "      <td>33227</td>\n",
       "      <td>A</td>\n",
       "      <td>BA4811</td>\n",
       "      <td>BB68389</td>\n",
       "      <td>PD39402</td>\n",
       "      <td>CC1</td>\n",
       "      <td>CP0</td>\n",
       "      <td>11-08-2020 00:00</td>\n",
       "    </tr>\n",
       "    <tr>\n",
       "      <th>2</th>\n",
       "      <td>CUID6660</td>\n",
       "      <td>TID308818</td>\n",
       "      <td>EID231193</td>\n",
       "      <td>20.875</td>\n",
       "      <td>11-08-2020 01:40</td>\n",
       "      <td>363981</td>\n",
       "      <td>A</td>\n",
       "      <td>BA4811</td>\n",
       "      <td>BB68389</td>\n",
       "      <td>PD39402</td>\n",
       "      <td>CC1</td>\n",
       "      <td>CP0</td>\n",
       "      <td>11-08-2020 00:00</td>\n",
       "    </tr>\n",
       "    <tr>\n",
       "      <th>3</th>\n",
       "      <td>CUID6660</td>\n",
       "      <td>TID321252</td>\n",
       "      <td>EID1124129</td>\n",
       "      <td>20457.500</td>\n",
       "      <td>30-08-2020 22:11</td>\n",
       "      <td>33227</td>\n",
       "      <td>A</td>\n",
       "      <td>BA4811</td>\n",
       "      <td>BB68389</td>\n",
       "      <td>PD39402</td>\n",
       "      <td>CC1</td>\n",
       "      <td>CP0</td>\n",
       "      <td>11-08-2020 00:00</td>\n",
       "    </tr>\n",
       "    <tr>\n",
       "      <th>4</th>\n",
       "      <td>CUID6660</td>\n",
       "      <td>TID420788</td>\n",
       "      <td>EID908838</td>\n",
       "      <td>4154.125</td>\n",
       "      <td>13-08-2020 08:40</td>\n",
       "      <td>33227</td>\n",
       "      <td>A</td>\n",
       "      <td>BA4811</td>\n",
       "      <td>BB68389</td>\n",
       "      <td>PD39402</td>\n",
       "      <td>CC1</td>\n",
       "      <td>CP0</td>\n",
       "      <td>11-08-2020 00:00</td>\n",
       "    </tr>\n",
       "  </tbody>\n",
       "</table>\n",
       "</div>"
      ],
      "text/plain": [
       "         V1         V2          V3         V4                V5      V6 V7   \n",
       "0  CUID6660  TID198043   EID908838   4154.125  13-08-2020 08:41   33227  A  \\\n",
       "1  CUID6660  TID312736   EID502971   8350.000  17-08-2020 04:13   33227  A   \n",
       "2  CUID6660  TID308818   EID231193     20.875  11-08-2020 01:40  363981  A   \n",
       "3  CUID6660  TID321252  EID1124129  20457.500  30-08-2020 22:11   33227  A   \n",
       "4  CUID6660  TID420788   EID908838   4154.125  13-08-2020 08:40   33227  A   \n",
       "\n",
       "       V8       V9      V10  V11  V12               V13  \n",
       "0  BA4811  BB68389  PD39402  CC1  CP0  11-08-2020 00:00  \n",
       "1  BA4811  BB68389  PD39402  CC1  CP0  11-08-2020 00:00  \n",
       "2  BA4811  BB68389  PD39402  CC1  CP0  11-08-2020 00:00  \n",
       "3  BA4811  BB68389  PD39402  CC1  CP0  11-08-2020 00:00  \n",
       "4  BA4811  BB68389  PD39402  CC1  CP0  11-08-2020 00:00  "
      ]
     },
     "execution_count": 18,
     "metadata": {},
     "output_type": "execute_result"
    }
   ],
   "source": [
    "test_data = pd.read_csv(\"dataset/test.csv\")\n",
    "test_data.head()"
   ]
  },
  {
   "cell_type": "code",
   "execution_count": 20,
   "id": "c7d869b2",
   "metadata": {},
   "outputs": [
    {
     "data": {
      "text/html": [
       "<div>\n",
       "<style scoped>\n",
       "    .dataframe tbody tr th:only-of-type {\n",
       "        vertical-align: middle;\n",
       "    }\n",
       "\n",
       "    .dataframe tbody tr th {\n",
       "        vertical-align: top;\n",
       "    }\n",
       "\n",
       "    .dataframe thead th {\n",
       "        text-align: right;\n",
       "    }\n",
       "</style>\n",
       "<table border=\"1\" class=\"dataframe\">\n",
       "  <thead>\n",
       "    <tr style=\"text-align: right;\">\n",
       "      <th></th>\n",
       "      <th>V4</th>\n",
       "      <th>V5</th>\n",
       "      <th>V7</th>\n",
       "    </tr>\n",
       "  </thead>\n",
       "  <tbody>\n",
       "    <tr>\n",
       "      <th>0</th>\n",
       "      <td>4154.125</td>\n",
       "      <td>13-08-2020 08:41</td>\n",
       "      <td>A</td>\n",
       "    </tr>\n",
       "    <tr>\n",
       "      <th>1</th>\n",
       "      <td>8350.000</td>\n",
       "      <td>17-08-2020 04:13</td>\n",
       "      <td>A</td>\n",
       "    </tr>\n",
       "    <tr>\n",
       "      <th>2</th>\n",
       "      <td>20.875</td>\n",
       "      <td>11-08-2020 01:40</td>\n",
       "      <td>A</td>\n",
       "    </tr>\n",
       "    <tr>\n",
       "      <th>3</th>\n",
       "      <td>20457.500</td>\n",
       "      <td>30-08-2020 22:11</td>\n",
       "      <td>A</td>\n",
       "    </tr>\n",
       "    <tr>\n",
       "      <th>4</th>\n",
       "      <td>4154.125</td>\n",
       "      <td>13-08-2020 08:40</td>\n",
       "      <td>A</td>\n",
       "    </tr>\n",
       "  </tbody>\n",
       "</table>\n",
       "</div>"
      ],
      "text/plain": [
       "          V4                V5 V7\n",
       "0   4154.125  13-08-2020 08:41  A\n",
       "1   8350.000  17-08-2020 04:13  A\n",
       "2     20.875  11-08-2020 01:40  A\n",
       "3  20457.500  30-08-2020 22:11  A\n",
       "4   4154.125  13-08-2020 08:40  A"
      ]
     },
     "execution_count": 20,
     "metadata": {},
     "output_type": "execute_result"
    }
   ],
   "source": [
    "test_data_V1 = test_data.drop([\"V1\",\"V2\",\"V3\",\"V12\",\"V11\",\"V8\",\"V6\",\"V9\",\"V10\",\"V13\"], axis = 1)\n",
    "test_data_V1.head()"
   ]
  },
  {
   "cell_type": "code",
   "execution_count": 21,
   "id": "c3324139",
   "metadata": {},
   "outputs": [
    {
     "name": "stderr",
     "output_type": "stream",
     "text": [
      "C:\\Users\\rajda\\AppData\\Local\\Temp\\ipykernel_15204\\1512082551.py:1: UserWarning: Parsing dates in %d-%m-%Y %H:%M format when dayfirst=False (the default) was specified. Pass `dayfirst=True` or specify a format to silence this warning.\n",
      "  test_data_V1[\"V5\"] = pd.to_datetime(test_data_V1[\"V5\"])\n"
     ]
    }
   ],
   "source": [
    "test_data_V1[\"V5\"] = pd.to_datetime(test_data_V1[\"V5\"])"
   ]
  },
  {
   "cell_type": "code",
   "execution_count": 22,
   "id": "137793d2",
   "metadata": {},
   "outputs": [],
   "source": [
    "test_data_V1[\"V5_year\"] = test_data_V1[\"V5\"].dt.year\n",
    "test_data_V1[\"V5_month\"] = test_data_V1[\"V5\"].dt.month\n",
    "test_data_V1[\"V5_day\"] = test_data_V1[\"V5\"].dt.day\n",
    "test_data_V1[\"V5_hour\"] = test_data_V1[\"V5\"].dt.hour\n",
    "test_data_V1[\"V5_min\"] = test_data_V1[\"V5\"].dt.minute\n",
    "test_data_V1[\"V5_sec\"] = test_data_V1[\"V5\"].dt.second\n",
    "test_data_V1['is_weekend'] = test_data_V1['V5'].dt.weekday >= 5\n",
    "test_data_V1['season'] = (test_data_V1['V5'].dt.month%12 + 3)//3"
   ]
  },
  {
   "cell_type": "code",
   "execution_count": 23,
   "id": "a5df15d2",
   "metadata": {},
   "outputs": [],
   "source": [
    "test_data_V1 = test_data_V1.drop(\"V5\", axis = 1)"
   ]
  },
  {
   "cell_type": "code",
   "execution_count": 24,
   "id": "e6e5c536",
   "metadata": {},
   "outputs": [],
   "source": [
    "test_data_V1[\"V7\"] = label_encode.transform(test_data_V1[\"V7\"])"
   ]
  },
  {
   "cell_type": "code",
   "execution_count": 25,
   "id": "42d9bc34",
   "metadata": {},
   "outputs": [],
   "source": [
    "y_test_pred = LogReg.predict(test_data_V1)"
   ]
  },
  {
   "cell_type": "code",
   "execution_count": 26,
   "id": "f8d7b74d",
   "metadata": {},
   "outputs": [],
   "source": [
    "y_test_proba = LogReg.predict_proba(test_data_V1)"
   ]
  },
  {
   "cell_type": "code",
   "execution_count": 27,
   "id": "23c27d37",
   "metadata": {},
   "outputs": [],
   "source": [
    "probs_pred = y_test_proba[range(len(y_test_pred)), y_test_pred]"
   ]
  },
  {
   "cell_type": "code",
   "execution_count": 28,
   "id": "c57905df",
   "metadata": {},
   "outputs": [
    {
     "data": {
      "text/plain": [
       "array([0.99126691, 0.98382071, 0.99420878, ..., 0.99560326, 0.99427096,\n",
       "       0.99478883])"
      ]
     },
     "execution_count": 28,
     "metadata": {},
     "output_type": "execute_result"
    }
   ],
   "source": [
    "probs_pred"
   ]
  },
  {
   "cell_type": "code",
   "execution_count": 29,
   "id": "92192ce2",
   "metadata": {},
   "outputs": [
    {
     "data": {
      "text/html": [
       "<div>\n",
       "<style scoped>\n",
       "    .dataframe tbody tr th:only-of-type {\n",
       "        vertical-align: middle;\n",
       "    }\n",
       "\n",
       "    .dataframe tbody tr th {\n",
       "        vertical-align: top;\n",
       "    }\n",
       "\n",
       "    .dataframe thead th {\n",
       "        text-align: right;\n",
       "    }\n",
       "</style>\n",
       "<table border=\"1\" class=\"dataframe\">\n",
       "  <thead>\n",
       "    <tr style=\"text-align: right;\">\n",
       "      <th></th>\n",
       "      <th>V2</th>\n",
       "      <th>Probability</th>\n",
       "      <th>Target</th>\n",
       "    </tr>\n",
       "  </thead>\n",
       "  <tbody>\n",
       "    <tr>\n",
       "      <th>0</th>\n",
       "      <td>TID198043</td>\n",
       "      <td>0.88</td>\n",
       "      <td>0</td>\n",
       "    </tr>\n",
       "    <tr>\n",
       "      <th>1</th>\n",
       "      <td>TID312736</td>\n",
       "      <td>0.42</td>\n",
       "      <td>0</td>\n",
       "    </tr>\n",
       "    <tr>\n",
       "      <th>2</th>\n",
       "      <td>TID308818</td>\n",
       "      <td>0.97</td>\n",
       "      <td>1</td>\n",
       "    </tr>\n",
       "    <tr>\n",
       "      <th>3</th>\n",
       "      <td>TID321252</td>\n",
       "      <td>0.48</td>\n",
       "      <td>0</td>\n",
       "    </tr>\n",
       "    <tr>\n",
       "      <th>4</th>\n",
       "      <td>TID420788</td>\n",
       "      <td>0.41</td>\n",
       "      <td>0</td>\n",
       "    </tr>\n",
       "  </tbody>\n",
       "</table>\n",
       "</div>"
      ],
      "text/plain": [
       "          V2  Probability  Target\n",
       "0  TID198043         0.88       0\n",
       "1  TID312736         0.42       0\n",
       "2  TID308818         0.97       1\n",
       "3  TID321252         0.48       0\n",
       "4  TID420788         0.41       0"
      ]
     },
     "execution_count": 29,
     "metadata": {},
     "output_type": "execute_result"
    }
   ],
   "source": [
    "sample_submit = pd.read_csv(\"dataset/sample_submission.csv\")\n",
    "sample_submit.head()"
   ]
  },
  {
   "cell_type": "code",
   "execution_count": 30,
   "id": "a4b23106",
   "metadata": {},
   "outputs": [],
   "source": [
    "sample_submit[\"Probability\"] = probs_pred"
   ]
  },
  {
   "cell_type": "code",
   "execution_count": 31,
   "id": "62d1f59a",
   "metadata": {},
   "outputs": [],
   "source": [
    "sample_submit[\"Target\"] = y_test_pred"
   ]
  },
  {
   "cell_type": "code",
   "execution_count": 32,
   "id": "446fea47",
   "metadata": {},
   "outputs": [],
   "source": [
    "sample_submit.to_csv(\"sample_test_submit_v1.csv\", index = False)"
   ]
  },
  {
   "cell_type": "code",
   "execution_count": 39,
   "id": "66d90ae4",
   "metadata": {},
   "outputs": [],
   "source": [
    "from xgboost import XGBClassifier"
   ]
  },
  {
   "cell_type": "code",
   "execution_count": 40,
   "id": "2e362f22",
   "metadata": {},
   "outputs": [],
   "source": [
    "XGB_model = XGBClassifier()"
   ]
  },
  {
   "cell_type": "code",
   "execution_count": 33,
   "id": "8f3afb16",
   "metadata": {},
   "outputs": [
    {
     "data": {
      "text/plain": [
       "XGBClassifier(base_score=None, booster=None, callbacks=None,\n",
       "              colsample_bylevel=None, colsample_bynode=None,\n",
       "              colsample_bytree=None, early_stopping_rounds=None,\n",
       "              enable_categorical=False, eval_metric=None, feature_types=None,\n",
       "              gamma=None, gpu_id=None, grow_policy=None, importance_type=None,\n",
       "              interaction_constraints=None, learning_rate=None, max_bin=None,\n",
       "              max_cat_threshold=None, max_cat_to_onehot=None,\n",
       "              max_delta_step=None, max_depth=None, max_leaves=None,\n",
       "              min_child_weight=None, missing=nan, monotone_constraints=None,\n",
       "              n_estimators=100, n_jobs=None, num_parallel_tree=None,\n",
       "              predictor=None, random_state=None, ...)"
      ]
     },
     "execution_count": 33,
     "metadata": {},
     "output_type": "execute_result"
    }
   ],
   "source": [
    "XGB_model.fit(X,y)"
   ]
  },
  {
   "cell_type": "code",
   "execution_count": 34,
   "id": "d612da02",
   "metadata": {},
   "outputs": [
    {
     "data": {
      "text/plain": [
       "65.61875047370076"
      ]
     },
     "execution_count": 34,
     "metadata": {},
     "output_type": "execute_result"
    }
   ],
   "source": [
    "y_pred_v1 = XGB_model.predict(X)\n",
    "\n",
    "precision, recall, threshold = precision_recall_curve(y, y_pred_v1)\n",
    "\n",
    "score = max(0, 100*metrics.auc(precision, recall))\n",
    "score"
   ]
  },
  {
   "cell_type": "code",
   "execution_count": 35,
   "id": "55734ee1",
   "metadata": {},
   "outputs": [],
   "source": [
    "y_test_pred_v1 = XGB_model.predict(test_data_V1)\n",
    "y_test_proba_v1 = XGB_model.predict_proba(test_data_V1)"
   ]
  },
  {
   "cell_type": "code",
   "execution_count": 36,
   "id": "912581bb",
   "metadata": {},
   "outputs": [],
   "source": [
    "probs_pred_v1 = y_test_proba_v1[range(len(y_test_pred_v1)), y_test_pred_v1]"
   ]
  },
  {
   "cell_type": "code",
   "execution_count": 37,
   "id": "81ab320b",
   "metadata": {},
   "outputs": [],
   "source": [
    "sample_submit[\"Probability\"] = probs_pred_v1\n",
    "sample_submit[\"Target\"] = y_test_pred_v1"
   ]
  },
  {
   "cell_type": "code",
   "execution_count": 38,
   "id": "60f47331",
   "metadata": {},
   "outputs": [],
   "source": [
    "sample_submit.to_csv(\"sample_test_submit_v1.csv\", index = False)"
   ]
  },
  {
   "cell_type": "markdown",
   "id": "2c706fc7",
   "metadata": {},
   "source": [
    "# Imbalance class Treatment"
   ]
  },
  {
   "cell_type": "code",
   "execution_count": 33,
   "id": "8776cbd3",
   "metadata": {},
   "outputs": [],
   "source": [
    "from imblearn.over_sampling import SMOTE\n",
    "smote = SMOTE(random_state=42)\n",
    "X_resampled, y_resampled = smote.fit_resample(X, y)"
   ]
  },
  {
   "cell_type": "code",
   "execution_count": 34,
   "id": "f4db0b02",
   "metadata": {},
   "outputs": [
    {
     "name": "stderr",
     "output_type": "stream",
     "text": [
      "C:\\ProgramData\\Anaconda3\\lib\\site-packages\\sklearn\\linear_model\\_logistic.py:814: ConvergenceWarning: lbfgs failed to converge (status=1):\n",
      "STOP: TOTAL NO. of ITERATIONS REACHED LIMIT.\n",
      "\n",
      "Increase the number of iterations (max_iter) or scale the data as shown in:\n",
      "    https://scikit-learn.org/stable/modules/preprocessing.html\n",
      "Please also refer to the documentation for alternative solver options:\n",
      "    https://scikit-learn.org/stable/modules/linear_model.html#logistic-regression\n",
      "  n_iter_i = _check_optimize_result(\n"
     ]
    },
    {
     "data": {
      "text/plain": [
       "LogisticRegression(random_state=42)"
      ]
     },
     "execution_count": 34,
     "metadata": {},
     "output_type": "execute_result"
    }
   ],
   "source": [
    "LogReg.fit(X_resampled,y_resampled)"
   ]
  },
  {
   "cell_type": "code",
   "execution_count": 35,
   "id": "57349f8e",
   "metadata": {},
   "outputs": [
    {
     "data": {
      "text/plain": [
       "20.22236382028607"
      ]
     },
     "execution_count": 35,
     "metadata": {},
     "output_type": "execute_result"
    }
   ],
   "source": [
    "y_pred = LogReg.predict(X_resampled)\n",
    "precision, recall, threshold = precision_recall_curve(y_resampled, y_pred)\n",
    "\n",
    "score = max(0, 100*metrics.auc(precision, recall))\n",
    "score"
   ]
  },
  {
   "cell_type": "code",
   "execution_count": 36,
   "id": "c8307ae4",
   "metadata": {},
   "outputs": [
    {
     "data": {
      "text/html": [
       "<div>\n",
       "<style scoped>\n",
       "    .dataframe tbody tr th:only-of-type {\n",
       "        vertical-align: middle;\n",
       "    }\n",
       "\n",
       "    .dataframe tbody tr th {\n",
       "        vertical-align: top;\n",
       "    }\n",
       "\n",
       "    .dataframe thead th {\n",
       "        text-align: right;\n",
       "    }\n",
       "</style>\n",
       "<table border=\"1\" class=\"dataframe\">\n",
       "  <thead>\n",
       "    <tr style=\"text-align: right;\">\n",
       "      <th></th>\n",
       "      <th>V2</th>\n",
       "      <th>Probability</th>\n",
       "      <th>Target</th>\n",
       "    </tr>\n",
       "  </thead>\n",
       "  <tbody>\n",
       "    <tr>\n",
       "      <th>0</th>\n",
       "      <td>TID198043</td>\n",
       "      <td>0.88</td>\n",
       "      <td>0</td>\n",
       "    </tr>\n",
       "    <tr>\n",
       "      <th>1</th>\n",
       "      <td>TID312736</td>\n",
       "      <td>0.42</td>\n",
       "      <td>0</td>\n",
       "    </tr>\n",
       "    <tr>\n",
       "      <th>2</th>\n",
       "      <td>TID308818</td>\n",
       "      <td>0.97</td>\n",
       "      <td>1</td>\n",
       "    </tr>\n",
       "    <tr>\n",
       "      <th>3</th>\n",
       "      <td>TID321252</td>\n",
       "      <td>0.48</td>\n",
       "      <td>0</td>\n",
       "    </tr>\n",
       "    <tr>\n",
       "      <th>4</th>\n",
       "      <td>TID420788</td>\n",
       "      <td>0.41</td>\n",
       "      <td>0</td>\n",
       "    </tr>\n",
       "  </tbody>\n",
       "</table>\n",
       "</div>"
      ],
      "text/plain": [
       "          V2  Probability  Target\n",
       "0  TID198043         0.88       0\n",
       "1  TID312736         0.42       0\n",
       "2  TID308818         0.97       1\n",
       "3  TID321252         0.48       0\n",
       "4  TID420788         0.41       0"
      ]
     },
     "execution_count": 36,
     "metadata": {},
     "output_type": "execute_result"
    }
   ],
   "source": [
    "y_test_pred = LogReg.predict(test_data_V1)\n",
    "\n",
    "y_test_proba = LogReg.predict_proba(test_data_V1)\n",
    "\n",
    "probs_pred = y_test_proba[range(len(y_test_pred)), y_test_pred]\n",
    "\n",
    "\n",
    "sample_submit = pd.read_csv(\"dataset/sample_submission.csv\")\n",
    "sample_submit.head()"
   ]
  },
  {
   "cell_type": "code",
   "execution_count": 37,
   "id": "b9fa2ae3",
   "metadata": {},
   "outputs": [],
   "source": [
    "sample_submit[\"Probability\"] = probs_pred\n",
    "\n",
    "sample_submit[\"Target\"] = y_test_pred\n",
    "\n",
    "sample_submit.to_csv(\"sample_test_submit_v2.csv\", index = False)"
   ]
  },
  {
   "cell_type": "code",
   "execution_count": 41,
   "id": "eff68470",
   "metadata": {},
   "outputs": [
    {
     "data": {
      "text/plain": [
       "XGBClassifier(base_score=None, booster=None, callbacks=None,\n",
       "              colsample_bylevel=None, colsample_bynode=None,\n",
       "              colsample_bytree=None, early_stopping_rounds=None,\n",
       "              enable_categorical=False, eval_metric=None, feature_types=None,\n",
       "              gamma=None, gpu_id=None, grow_policy=None, importance_type=None,\n",
       "              interaction_constraints=None, learning_rate=None, max_bin=None,\n",
       "              max_cat_threshold=None, max_cat_to_onehot=None,\n",
       "              max_delta_step=None, max_depth=None, max_leaves=None,\n",
       "              min_child_weight=None, missing=nan, monotone_constraints=None,\n",
       "              n_estimators=100, n_jobs=None, num_parallel_tree=None,\n",
       "              predictor=None, random_state=None, ...)"
      ]
     },
     "execution_count": 41,
     "metadata": {},
     "output_type": "execute_result"
    }
   ],
   "source": [
    "XGB_model.fit(X_resampled,y_resampled)"
   ]
  },
  {
   "cell_type": "code",
   "execution_count": 42,
   "id": "caf91a95",
   "metadata": {},
   "outputs": [
    {
     "data": {
      "text/plain": [
       "45.74825494308282"
      ]
     },
     "execution_count": 42,
     "metadata": {},
     "output_type": "execute_result"
    }
   ],
   "source": [
    "y_pred_v2 = XGB_model.predict(X_resampled)\n",
    "\n",
    "precision, recall, threshold = precision_recall_curve(y_resampled, y_pred_v2)\n",
    "\n",
    "score = max(0, 100*metrics.auc(precision, recall))\n",
    "score"
   ]
  },
  {
   "cell_type": "code",
   "execution_count": 45,
   "id": "36717cc4",
   "metadata": {},
   "outputs": [],
   "source": [
    "y_test_pred_v2 = XGB_model.predict(test_data_V1)\n",
    "y_test_proba_v2 = XGB_model.predict_proba(test_data_V1)\n",
    "\n",
    "probs_pred_v2 = y_test_proba_v2[range(len(y_test_pred_v2)), y_test_pred_v2]\n",
    "\n",
    "sample_submit[\"Probability\"] = probs_pred_v2\n",
    "sample_submit[\"Target\"] = y_test_pred_v2"
   ]
  },
  {
   "cell_type": "code",
   "execution_count": 46,
   "id": "22e78c8d",
   "metadata": {},
   "outputs": [],
   "source": [
    "sample_submit.to_csv(\"sample_test_submit_v11.csv\", index = False)"
   ]
  },
  {
   "cell_type": "markdown",
   "id": "debd9f03",
   "metadata": {},
   "source": [
    "# Hyperparameter tunnig"
   ]
  },
  {
   "cell_type": "code",
   "execution_count": 43,
   "id": "4443b872",
   "metadata": {},
   "outputs": [],
   "source": [
    "from sklearn.model_selection import RandomizedSearchCV"
   ]
  },
  {
   "cell_type": "code",
   "execution_count": 44,
   "id": "82e35a18",
   "metadata": {},
   "outputs": [
    {
     "name": "stdout",
     "output_type": "stream",
     "text": [
      "Fitting 5 folds for each of 50 candidates, totalling 250 fits\n",
      "Best hyperparameters: {'subsample': 0.7, 'n_estimators': 500, 'min_child_weight': 1, 'max_depth': 7, 'learning_rate': 0.3, 'colsample_bytree': 0.8}\n",
      "Best accuracy score: 0.9844626356837518\n"
     ]
    }
   ],
   "source": [
    "# Define XGBoost model\n",
    "model = XGBClassifier()\n",
    "\n",
    "# Define hyperparameters to search over\n",
    "param_grid = {\n",
    "    'learning_rate': [0.01, 0.1, 0.2, 0.3],\n",
    "    'max_depth': [3, 4, 5, 6, 7],\n",
    "    'min_child_weight': [1, 3, 5, 7],\n",
    "    'subsample': [0.5, 0.6, 0.7, 0.8, 0.9],\n",
    "    'colsample_bytree': [0.5, 0.6, 0.7, 0.8, 0.9],\n",
    "    'n_estimators': [100, 200, 300, 400, 500]\n",
    "}\n",
    "\n",
    "# Define random search with 5-fold cross-validation\n",
    "random_search = RandomizedSearchCV(\n",
    "    estimator=model, \n",
    "    param_distributions=param_grid, \n",
    "    n_iter=50, \n",
    "    scoring='accuracy', \n",
    "    cv=5, \n",
    "    verbose=3,\n",
    "    n_jobs=-1\n",
    ")\n",
    "\n",
    "# Perform random search to find best hyperparameters\n",
    "random_search.fit(X_resampled, y_resampled)\n",
    "\n",
    "# Print best hyperparameters and corresponding accuracy score\n",
    "print(\"Best hyperparameters:\", random_search.best_params_)\n",
    "print(\"Best accuracy score:\", random_search.best_score_)"
   ]
  },
  {
   "cell_type": "code",
   "execution_count": 45,
   "id": "1193da50",
   "metadata": {},
   "outputs": [],
   "source": [
    "xgb_best_model = XGBClassifier(subsample =  0.7, \n",
    "                               n_estimators = 500, \n",
    "                               min_child_weight = 1, \n",
    "                               max_depth = 7, \n",
    "                               learning_rate = 0.3, \n",
    "                               colsample_bytree = 0.8)"
   ]
  },
  {
   "cell_type": "code",
   "execution_count": 46,
   "id": "5e69b19e",
   "metadata": {},
   "outputs": [
    {
     "data": {
      "text/plain": [
       "XGBClassifier(base_score=None, booster=None, callbacks=None,\n",
       "              colsample_bylevel=None, colsample_bynode=None,\n",
       "              colsample_bytree=0.8, early_stopping_rounds=None,\n",
       "              enable_categorical=False, eval_metric=None, feature_types=None,\n",
       "              gamma=None, gpu_id=None, grow_policy=None, importance_type=None,\n",
       "              interaction_constraints=None, learning_rate=0.3, max_bin=None,\n",
       "              max_cat_threshold=None, max_cat_to_onehot=None,\n",
       "              max_delta_step=None, max_depth=7, max_leaves=None,\n",
       "              min_child_weight=1, missing=nan, monotone_constraints=None,\n",
       "              n_estimators=500, n_jobs=None, num_parallel_tree=None,\n",
       "              predictor=None, random_state=None, ...)"
      ]
     },
     "execution_count": 46,
     "metadata": {},
     "output_type": "execute_result"
    }
   ],
   "source": [
    "xgb_best_model.fit(X_resampled, y_resampled)"
   ]
  },
  {
   "cell_type": "code",
   "execution_count": 47,
   "id": "eaf1fc5b",
   "metadata": {},
   "outputs": [
    {
     "data": {
      "text/plain": [
       "49.223543232599965"
      ]
     },
     "execution_count": 47,
     "metadata": {},
     "output_type": "execute_result"
    }
   ],
   "source": [
    "y_pred_v3 = xgb_best_model.predict(X_resampled)\n",
    "\n",
    "precision, recall, threshold = precision_recall_curve(y_resampled, y_pred_v3)\n",
    "\n",
    "score = max(0, 100*metrics.auc(precision, recall))\n",
    "score"
   ]
  },
  {
   "cell_type": "code",
   "execution_count": 48,
   "id": "ecdfbb1d",
   "metadata": {},
   "outputs": [],
   "source": [
    "y_test_pred_v3 = xgb_best_model.predict(test_data_V1)\n",
    "y_test_proba_v3 = xgb_best_model.predict_proba(test_data_V1)\n",
    "\n",
    "probs_pred_v3 = y_test_proba_v1[range(len(y_test_pred_v3)), y_test_pred_v3]\n",
    "\n",
    "sample_submit[\"Probability\"] = probs_pred_v3\n",
    "sample_submit[\"Target\"] = y_test_pred_v3"
   ]
  },
  {
   "cell_type": "code",
   "execution_count": 49,
   "id": "8ecea5bd",
   "metadata": {},
   "outputs": [],
   "source": [
    "sample_submit.to_csv(\"sample_test_submit_v5.csv\", index = False)"
   ]
  },
  {
   "cell_type": "code",
   "execution_count": 50,
   "id": "69b597b4",
   "metadata": {},
   "outputs": [
    {
     "data": {
      "text/plain": [
       "Target\n",
       "0    232343\n",
       "1    232343\n",
       "Name: count, dtype: int64"
      ]
     },
     "execution_count": 50,
     "metadata": {},
     "output_type": "execute_result"
    }
   ],
   "source": [
    "y_resampled.value_counts()"
   ]
  },
  {
   "cell_type": "code",
   "execution_count": 51,
   "id": "fd964392",
   "metadata": {},
   "outputs": [],
   "source": [
    "from imblearn.over_sampling import SMOTE\n",
    "\n",
    "# X is the feature matrix, y is the target variable\n",
    "smote = SMOTE(sampling_strategy=0.4, random_state=42)\n",
    "X_resampled_v1, y_resampled_v1 = smote.fit_resample(X, y)"
   ]
  },
  {
   "cell_type": "code",
   "execution_count": 53,
   "id": "dbf2ed9e",
   "metadata": {},
   "outputs": [
    {
     "data": {
      "text/plain": [
       "XGBClassifier(base_score=None, booster=None, callbacks=None,\n",
       "              colsample_bylevel=None, colsample_bynode=None,\n",
       "              colsample_bytree=0.8, early_stopping_rounds=None,\n",
       "              enable_categorical=False, eval_metric=None, feature_types=None,\n",
       "              gamma=None, gpu_id=None, grow_policy=None, importance_type=None,\n",
       "              interaction_constraints=None, learning_rate=0.3, max_bin=None,\n",
       "              max_cat_threshold=None, max_cat_to_onehot=None,\n",
       "              max_delta_step=None, max_depth=7, max_leaves=None,\n",
       "              min_child_weight=1, missing=nan, monotone_constraints=None,\n",
       "              n_estimators=500, n_jobs=None, num_parallel_tree=None,\n",
       "              predictor=None, random_state=None, ...)"
      ]
     },
     "execution_count": 53,
     "metadata": {},
     "output_type": "execute_result"
    }
   ],
   "source": [
    "xgb_best_model.fit(X_resampled_v1, y_resampled_v1)"
   ]
  },
  {
   "cell_type": "code",
   "execution_count": 54,
   "id": "0c12fe77",
   "metadata": {},
   "outputs": [
    {
     "data": {
      "text/plain": [
       "70.40546990381516"
      ]
     },
     "execution_count": 54,
     "metadata": {},
     "output_type": "execute_result"
    }
   ],
   "source": [
    "y_pred_v3 = xgb_best_model.predict(X_resampled_v1)\n",
    "\n",
    "precision, recall, threshold = precision_recall_curve(y_resampled_v1, y_pred_v3)\n",
    "\n",
    "score = max(0, 100*metrics.auc(precision, recall))\n",
    "score"
   ]
  },
  {
   "cell_type": "code",
   "execution_count": 55,
   "id": "54a61e2a",
   "metadata": {},
   "outputs": [],
   "source": [
    "y_test_pred_v4 = xgb_best_model.predict(test_data_V1)\n",
    "y_test_proba_v4 = xgb_best_model.predict_proba(test_data_V1)\n",
    "\n",
    "probs_pred_v4 = y_test_proba_v1[range(len(y_test_pred_v4)), y_test_pred_v4]\n",
    "\n",
    "sample_submit[\"Probability\"] = probs_pred_v4\n",
    "sample_submit[\"Target\"] = y_test_pred_v4"
   ]
  },
  {
   "cell_type": "code",
   "execution_count": 56,
   "id": "44efd516",
   "metadata": {},
   "outputs": [],
   "source": [
    "sample_submit.to_csv(\"sample_test_submit_v6.csv\", index = False)"
   ]
  },
  {
   "cell_type": "code",
   "execution_count": 57,
   "id": "4db3d1f4",
   "metadata": {},
   "outputs": [
    {
     "data": {
      "text/plain": [
       "RandomForestClassifier()"
      ]
     },
     "execution_count": 57,
     "metadata": {},
     "output_type": "execute_result"
    }
   ],
   "source": [
    "from sklearn.ensemble import RandomForestClassifier\n",
    "\n",
    "random_model = RandomForestClassifier()\n",
    "\n",
    "random_model.fit(X,y)"
   ]
  },
  {
   "cell_type": "code",
   "execution_count": 59,
   "id": "5b5dc7db",
   "metadata": {},
   "outputs": [
    {
     "data": {
      "text/plain": [
       "99.40930629390685"
      ]
     },
     "execution_count": 59,
     "metadata": {},
     "output_type": "execute_result"
    }
   ],
   "source": [
    "y_pred_v5 = random_model.predict(X)\n",
    "\n",
    "precision, recall, threshold = precision_recall_curve(y, y_pred_v5)\n",
    "\n",
    "score = max(0, 100*metrics.auc(precision, recall))\n",
    "score"
   ]
  },
  {
   "cell_type": "code",
   "execution_count": 60,
   "id": "c4eacbdf",
   "metadata": {},
   "outputs": [],
   "source": [
    "y_test_pred_v5 = random_model.predict(test_data_V1)\n",
    "y_test_proba_v5 = random_model.predict_proba(test_data_V1)\n",
    "\n",
    "probs_pred_v5 = y_test_proba_v1[range(len(y_test_pred_v5)), y_test_pred_v5]\n",
    "\n",
    "sample_submit[\"Probability\"] = probs_pred_v5\n",
    "sample_submit[\"Target\"] = y_test_pred_v5"
   ]
  },
  {
   "cell_type": "code",
   "execution_count": 61,
   "id": "ec245729",
   "metadata": {},
   "outputs": [],
   "source": [
    "sample_submit.to_csv(\"sample_test_submit_v7.csv\", index = False)"
   ]
  },
  {
   "cell_type": "code",
   "execution_count": 62,
   "id": "436f1826",
   "metadata": {},
   "outputs": [
    {
     "data": {
      "text/plain": [
       "RandomForestClassifier()"
      ]
     },
     "execution_count": 62,
     "metadata": {},
     "output_type": "execute_result"
    }
   ],
   "source": [
    "random_model.fit(X_resampled,y_resampled)"
   ]
  },
  {
   "cell_type": "code",
   "execution_count": 64,
   "id": "ca2b2d2e",
   "metadata": {},
   "outputs": [
    {
     "data": {
      "text/plain": [
       "0.0006455889062007003"
      ]
     },
     "execution_count": 64,
     "metadata": {},
     "output_type": "execute_result"
    }
   ],
   "source": [
    "y_pred_v5 = random_model.predict(X_resampled)\n",
    "\n",
    "precision, recall, threshold = precision_recall_curve(y_resampled, y_pred_v5)\n",
    "\n",
    "score = max(0, 100*metrics.auc(precision, recall))\n",
    "score"
   ]
  },
  {
   "cell_type": "code",
   "execution_count": 65,
   "id": "d41e608f",
   "metadata": {},
   "outputs": [],
   "source": [
    "y_test_pred_v5 = random_model.predict(test_data_V1)\n",
    "y_test_proba_v5 = random_model.predict_proba(test_data_V1)\n",
    "\n",
    "probs_pred_v5 = y_test_proba_v1[range(len(y_test_pred_v5)), y_test_pred_v5]\n",
    "\n",
    "sample_submit[\"Probability\"] = probs_pred_v5\n",
    "sample_submit[\"Target\"] = y_test_pred_v5"
   ]
  },
  {
   "cell_type": "code",
   "execution_count": 66,
   "id": "23f94f28",
   "metadata": {},
   "outputs": [],
   "source": [
    "sample_submit.to_csv(\"sample_test_submit_v8.csv\", index = False)"
   ]
  },
  {
   "cell_type": "markdown",
   "id": "2a5c4002",
   "metadata": {},
   "source": [
    "# SVM model"
   ]
  },
  {
   "cell_type": "code",
   "execution_count": 67,
   "id": "1bb5505e",
   "metadata": {},
   "outputs": [],
   "source": [
    "from sklearn.svm import SVC\n",
    "from sklearn.utils import class_weight\n",
    "from sklearn.metrics import classification_report"
   ]
  },
  {
   "cell_type": "code",
   "execution_count": 68,
   "id": "3f32a6dc",
   "metadata": {},
   "outputs": [],
   "source": [
    "# Calculate class weights\n",
    "class_weights = class_weight.compute_class_weight('balanced', classes=[0, 1], y=y)"
   ]
  },
  {
   "cell_type": "code",
   "execution_count": 72,
   "id": "9f3e74ec",
   "metadata": {},
   "outputs": [],
   "source": [
    "class_weights = dict(zip(np.unique(y), [0.50277607, 90.55542636]))"
   ]
  },
  {
   "cell_type": "code",
   "execution_count": 73,
   "id": "83914728",
   "metadata": {},
   "outputs": [
    {
     "data": {
      "text/plain": [
       "{0: 0.50277607, 1: 90.55542636}"
      ]
     },
     "execution_count": 73,
     "metadata": {},
     "output_type": "execute_result"
    }
   ],
   "source": [
    "class_weights"
   ]
  },
  {
   "cell_type": "code",
   "execution_count": 74,
   "id": "05e6b222",
   "metadata": {},
   "outputs": [],
   "source": [
    "# Define the SVM model with class_weight parameter\n",
    "svm_model = SVC(kernel='linear', class_weight=class_weights)"
   ]
  },
  {
   "cell_type": "code",
   "execution_count": null,
   "id": "1be847e9",
   "metadata": {},
   "outputs": [],
   "source": [
    "# Train the model\n",
    "svm_model.fit(X, y)"
   ]
  },
  {
   "cell_type": "code",
   "execution_count": null,
   "id": "e952e822",
   "metadata": {},
   "outputs": [],
   "source": [
    "y_pred_v7 = svm_model.predict(test_data_V1)"
   ]
  }
 ],
 "metadata": {
  "kernelspec": {
   "display_name": "Python 3 (ipykernel)",
   "language": "python",
   "name": "python3"
  },
  "language_info": {
   "codemirror_mode": {
    "name": "ipython",
    "version": 3
   },
   "file_extension": ".py",
   "mimetype": "text/x-python",
   "name": "python",
   "nbconvert_exporter": "python",
   "pygments_lexer": "ipython3",
   "version": "3.9.13"
  }
 },
 "nbformat": 4,
 "nbformat_minor": 5
}
